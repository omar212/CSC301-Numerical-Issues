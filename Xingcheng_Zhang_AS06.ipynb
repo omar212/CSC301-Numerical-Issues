{
 "cells": [
  {
   "cell_type": "markdown",
   "metadata": {},
   "source": [
    "# Pendulum problems by using verlet algorithm"
   ]
  },
  {
   "cell_type": "markdown",
   "metadata": {},
   "source": [
    "### simple algorithm\n",
    "$T = 2\\pi\\sqrt{\\frac{l}{g}}$"
   ]
  },
  {
   "cell_type": "code",
   "execution_count": 24,
   "metadata": {},
   "outputs": [
    {
     "name": "stdout",
     "output_type": "stream",
     "text": [
      "simple period = 1.107782086096057 sec\n"
     ]
    }
   ],
   "source": [
    "from math import sin\n",
    "import numpy as np\n",
    "from scipy.special import ellipk\n",
    "delta_T = 0.00001  \n",
    "g = 32.17\n",
    "L = 1\n",
    "P_simple_exact = 2*np.pi*np.sqrt(1.0/32.17)\n",
    "print(\"simple period = {} sec\".format(P_simple_exact))"
   ]
  },
  {
   "cell_type": "markdown",
   "metadata": {},
   "source": [
    "#### We can use this formula to calculate the exactly value of the pendulum period####\n",
    "$T= 4\\sqrt{\\frac{l}{g}}K(\\sin(\\frac{\\theta}{2}))$"
   ]
  },
  {
   "cell_type": "code",
   "execution_count": 25,
   "metadata": {},
   "outputs": [
    {
     "name": "stdout",
     "output_type": "stream",
     "text": [
      "Period exact value  = 1.1520628849926642 sec\n"
     ]
    }
   ],
   "source": [
    "ths = np.arange(0, np.pi/4.0, delta_T)\n",
    "Period_exact =  4*np.sqrt(L/g)*ellipk(np.sin(ths/2)**2)\n",
    "Exact_Value = Period_exact[-1]\n",
    "print(\"Period exact value  = {} sec\".format(Exact_Value))"
   ]
  },
  {
   "cell_type": "markdown",
   "metadata": {},
   "source": [
    "# Verlet algorithm to calcuate the period"
   ]
  },
  {
   "cell_type": "code",
   "execution_count": 26,
   "metadata": {},
   "outputs": [
    {
     "name": "stdout",
     "output_type": "stream",
     "text": [
      "The period using verlet algorithm = 1.1520600000008194 sec\n",
      "The absolute error for verlet algorithm is  -2.8849918447537704e-06\n",
      "The relative error for verlet algorithm is  -2.5041965003257097e-06\n"
     ]
    }
   ],
   "source": [
    "t = 0             \n",
    "theta = -np.pi/4      \n",
    "a = -g/L*sin(theta)  #base on the formula d^2(theta)/dt^2 + g/L*sin(theta) = 0\n",
    "v = 0                \n",
    "\n",
    "# go through left to right one time\n",
    "while True:\n",
    "    theta_pre = theta      #Previous theta\n",
    "    t += delta_T           #Time changed by t_delta\n",
    "    v += a * delta_T / 2   #v(t + delta_T / 2)\n",
    "    theta += v * delta_T   #theta(t + delta_T)\n",
    "    a = -g/L*sin(theta)    #a(t + delta_T)\n",
    "    v += a * delta_T / 2   #v(t + delta_T)\n",
    "    \n",
    "    if (theta_pre < 0 and theta > 0):\n",
    "        break\n",
    "t1 = t      \n",
    "\n",
    "# go through second time\n",
    "while True:\n",
    "    theta_pre = theta  \n",
    "    t += delta_T           \n",
    "    v += a * delta_T / 2  \n",
    "    theta += v * delta_T  \n",
    "    a = -g/L*sin(theta)    \n",
    "    v += a * delta_T / 2   \n",
    "    \n",
    "    if (theta_pre < 0 and theta > 0):\n",
    "        break\n",
    "t2 = t\n",
    "\n",
    "#Period\n",
    "Period_Verlet = t2 - t1\n",
    "print(\"The period using verlet algorithm = {} sec\".format(Period_Verlet))\n",
    "absError = Period_Verlet - Exact_Value\n",
    "relativeError = absError/Exact_Value\n",
    "print (\"The absolute error for verlet algorithm is \", absError)\n",
    "print (\"The relative error for verlet algorithm is \",relativeError)\n"
   ]
  },
  {
   "cell_type": "markdown",
   "metadata": {},
   "source": [
    "## Analysis:\n",
    "  In conclusion, the result for the verlet algorithm is more accurate. The simple pendulum period calculation will only be best fit for the angle is less\n",
    "  then 5 degree or smaller. Base on the absolute and relative error, we can see that verlet algorithm plays a important role in pendulum calculation \n",
    "  and other related field.\n"
   ]
  }
 ],
 "metadata": {
  "kernelspec": {
   "display_name": "Python 3",
   "language": "python",
   "name": "python3"
  },
  "language_info": {
   "codemirror_mode": {
    "name": "ipython",
    "version": 3
   },
   "file_extension": ".py",
   "mimetype": "text/x-python",
   "name": "python",
   "nbconvert_exporter": "python",
   "pygments_lexer": "ipython3",
   "version": "3.6.5"
  }
 },
 "nbformat": 4,
 "nbformat_minor": 2
}
