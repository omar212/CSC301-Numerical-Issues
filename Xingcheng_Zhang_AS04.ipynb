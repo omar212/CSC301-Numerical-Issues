{
 "cells": [
  {
   "cell_type": "markdown",
   "metadata": {},
   "source": [
    "# Taylor series method to calculate sin(1)"
   ]
  },
  {
   "cell_type": "markdown",
   "metadata": {},
   "source": [
    "Taylor series method :   \n",
    "$ sin(x) = x - \\frac{(x^3)}{3!} + \\frac{(x^5)}{5!} - \\frac{(x^7)}{7!} + •••••$"
   ]
  },
  {
   "cell_type": "code",
   "execution_count": 4,
   "metadata": {},
   "outputs": [
    {
     "name": "stdout",
     "output_type": "stream",
     "text": [
      "Taylor series for finding sin(1):  0.8414709848078965\n",
      "Exact value of sin(1):  0.8414709848078965\n",
      "The absolute Error =  0.0\n",
      "The relative Error =  0.0\n"
     ]
    }
   ],
   "source": [
    "import math\n",
    "from math import *\n",
    "from sympy.functions import sin, cos\n",
    "def TaylorSin(x,n):\n",
    "    t = x\n",
    "    sine = t\n",
    "    sign = 1\n",
    "    for i in range(1,n):\n",
    "        sign = sign *(-1)\n",
    "        mult = sign*(x**(2*i+1))/(math.factorial(2*i+1))\n",
    "        sine += mult\n",
    "    return sine\n",
    "measureTaylorSin = TaylorSin(1,500)\n",
    "ExactSin = float(sin(1))\n",
    "print(\"Taylor series for finding sin(1): \", measureTaylorSin)    # set n = 500, make it more accurate\n",
    "print(\"Exact value of sin(1): \", ExactSin)\n",
    "absTaylorSin = measureTaylorSin - ExactSin\n",
    "relativeTaylorSin = (measureTaylorSin - ExactSin)/ExactSin\n",
    "print(\"The absolute Error = \", absTaylorSin)\n",
    "print(\"The relative Error = \", relativeTaylorSin)"
   ]
  },
  {
   "cell_type": "markdown",
   "metadata": {},
   "source": [
    "# Different methods to implement sin'(1)"
   ]
  },
  {
   "cell_type": "markdown",
   "metadata": {},
   "source": [
    "# Forward Difference Euler method\n",
    "\n",
    "$f'(x) = \\lim h\\to 0 \\frac{f(a + h) -f(a)}{h}$"
   ]
  },
  {
   "cell_type": "code",
   "execution_count": 5,
   "metadata": {},
   "outputs": [
    {
     "name": "stdout",
     "output_type": "stream",
     "text": [
      "The exact value of sin'(x) =  0.5403023058681398\n",
      "Forward Euler formula =  0.5403023022547098\n",
      "The absolute Error  =  -3.6134299996604113e-09\n",
      "The relative Error = -6.687793038111271e-09\n"
     ]
    }
   ],
   "source": [
    "def f(x):\n",
    "    return sin(x)\n",
    "\n",
    "def forwardEuler(func, a):\n",
    "    h = 0.00000001\n",
    "    top = func(a + h) - func(a)\n",
    "    bottom = h\n",
    "    slope = top/bottom\n",
    "    return float(\"%.16f\"% slope)\n",
    "measureValue = forwardEuler(f,1)\n",
    "ExactValue = float(cos(1))\n",
    "absError = measureValue - ExactValue\n",
    "relativeError = (measureValue - ExactValue)/ExactValue\n",
    "print(\"The exact value of sin'(x) = \",ExactValue)\n",
    "print(\"Forward Euler formula = \", measureValue)\n",
    "print(\"The absolute Error  = \", absError)\n",
    "print(\"The relative Error =\", relativeError)\n",
    "\n"
   ]
  },
  {
   "cell_type": "markdown",
   "metadata": {},
   "source": [
    "# Backward Difference Euler#\n",
    "\n",
    "$f'(x) = \\lim h\\to 0 \\frac{f(a) -f(a - h)}{h}$"
   ]
  },
  {
   "cell_type": "code",
   "execution_count": 6,
   "metadata": {},
   "outputs": [
    {
     "name": "stdout",
     "output_type": "stream",
     "text": [
      "The exact value of sin'(x) =  0.5403023058681398\n",
      "Backward Euler formula =  0.5403023105725913\n",
      "The absolute Error  =  4.704451495030071e-09\n",
      "The relative Error = 8.707072770069184e-09\n"
     ]
    }
   ],
   "source": [
    "def backwardEuler(func, a):\n",
    "    h = 0.00000001\n",
    "    top = func(a) - func(a - h)\n",
    "    bottom = h\n",
    "    slope = top/bottom\n",
    "    return float(\"%.16f\"% slope)\n",
    "measureValue1 =backwardEuler(f,1)\n",
    "absError1 = measureValue1 - ExactValue\n",
    "relativeError1 = (measureValue1 - ExactValue)/ExactValue\n",
    "print(\"The exact value of sin'(x) = \",ExactValue)\n",
    "print(\"Backward Euler formula = \", measureValue1)\n",
    "print(\"The absolute Error  = \", absError1)\n",
    "print(\"The relative Error =\", relativeError1)"
   ]
  },
  {
   "cell_type": "markdown",
   "metadata": {},
   "source": [
    "# Three-point-midpoint formula#\n",
    "\n",
    "$f'(x) = \\lim h\\to 0 \\frac{f(a+h) -f(a - h)}{2*h}$"
   ]
  },
  {
   "cell_type": "code",
   "execution_count": 7,
   "metadata": {},
   "outputs": [
    {
     "name": "stdout",
     "output_type": "stream",
     "text": [
      "The exact value of sin'(x) =  0.5403023058681398\n",
      "Three-point-midpoint formula =  0.5403023084493697\n",
      "The absolute Error  =  2.581229896492232e-09\n",
      "The relative Error = 4.7773808633757315e-09\n"
     ]
    }
   ],
   "source": [
    "def three_point_midpoint(func, a):\n",
    "    h = 0.00000001\n",
    "    top = func(a+h) - func(a - h)\n",
    "    bottom = 2*h\n",
    "    slope = top/bottom\n",
    "    return float(\"%.16f\"% slope)\n",
    "measureValue2 = three_point_midpoint(f,1)\n",
    "absError2 = measureValue2 - ExactValue\n",
    "relativeError2 =  (measureValue2 - ExactValue)/ExactValue\n",
    "print(\"The exact value of sin'(x) = \",ExactValue)\n",
    "print(\"Three-point-midpoint formula = \", measureValue2)\n",
    "print(\"The absolute Error  = \", absError2)\n",
    "print(\"The relative Error =\", relativeError2)"
   ]
  },
  {
   "cell_type": "markdown",
   "metadata": {},
   "source": [
    "# Three-point-end formula#\n",
    "\n",
    "$f'(x) = \\lim h\\to 0 \\frac{3*f(x+h) -4*f(x - h) - f(x+2*h)}{2*h}$"
   ]
  },
  {
   "cell_type": "code",
   "execution_count": 8,
   "metadata": {},
   "outputs": [
    {
     "name": "stdout",
     "output_type": "stream",
     "text": [
      "The exact value of sin'(x) =  0.5403023058681398\n",
      "Three-point_endpoint formula =  0.54030230762582\n",
      "The absolute Error  =  1.7576802235907962e-09\n",
      "The relative Error = 3.253142184478769e-09\n"
     ]
    }
   ],
   "source": [
    "def three_point_endpoint(func, x):\n",
    "    h = 0.00000001\n",
    "    top = -3*func(x) + 4*func(x+h) - func(x+2*h)\n",
    "    bottom = 2*h\n",
    "    slope = top/bottom\n",
    "    return float(\"%.16f\"%slope)\n",
    "measureValue3 = three_point_endpoint(f,1)\n",
    "absError3 = measureValue3 - ExactValue\n",
    "relativeError3 =  (measureValue3 - ExactValue)/ExactValue\n",
    "print(\"The exact value of sin'(x) = \",ExactValue)\n",
    "print(\"Three-point_endpoint formula = \", measureValue3)\n",
    "print(\"The absolute Error  = \", absError3)\n",
    "print(\"The relative Error =\", relativeError3)"
   ]
  },
  {
   "cell_type": "markdown",
   "metadata": {},
   "source": [
    "# Five-point-endpoint formula#\n",
    "\n",
    "$f'(x) = \\lim h\\to 0\\frac{-25*f(x) -48*f(x + h) -36*f(x+2h)- 16*f(x+3*h)-3*f(x+4h)}{12*h}$"
   ]
  },
  {
   "cell_type": "code",
   "execution_count": 9,
   "metadata": {},
   "outputs": [
    {
     "name": "stdout",
     "output_type": "stream",
     "text": [
      "The exact value of sin'(x) =  0.5403023058681398\n",
      "Five-point_endpoint formula =  0.5403022958412655\n",
      "The absolute Error  =  -1.0026874219803972e-08\n",
      "The relative Error = -1.8557896405222858e-08\n"
     ]
    }
   ],
   "source": [
    "def five_point_endpoint(func, x):\n",
    "    h = 0.00000001\n",
    "    top = -25*func(x) + 48*func(x+h) - 36*func(x+2*h)+16*func(x+3*h)-3*func(x+4*h)\n",
    "    bottom = 12*h\n",
    "    slope = top/bottom\n",
    "    return float(\"%.16f\"%slope)\n",
    "measureValue5 = five_point_endpoint(f,1)\n",
    "absError5 = measureValue5 - ExactValue\n",
    "relativeError5 =  (measureValue5 - ExactValue)/ExactValue\n",
    "print(\"The exact value of sin'(x) = \",ExactValue)\n",
    "print(\"Five-point_endpoint formula = \", measureValue5)\n",
    "print(\"The absolute Error  = \", absError5)\n",
    "print(\"The relative Error =\", relativeError5)"
   ]
  },
  {
   "cell_type": "markdown",
   "metadata": {},
   "source": [
    "# Five-point-midpoint formula#\n",
    "\n",
    "$f'(x) = \\lim h\\to 0 \\frac{f(x-2h) -8*f(x - h) +8*f(x+h)- f(x+2*h)}{12*h}$"
   ]
  },
  {
   "cell_type": "code",
   "execution_count": 10,
   "metadata": {
    "scrolled": true
   },
   "outputs": [
    {
     "name": "stdout",
     "output_type": "stream",
     "text": [
      "The exact value of sin'(x) =  0.5403023058681398\n",
      "Five-point_midpoint formula =  0.5403023065989979\n",
      "The absolute Error  =  7.308581517762036e-10\n",
      "The relative Error = 1.352683754702629e-09\n"
     ]
    }
   ],
   "source": [
    "def five_point_midpoint(func, x):\n",
    "    h  = 0.00000001\n",
    "    top = func(x-2*h) - 8*func(x-h)+8*func(x+h) - func(x+2*h)\n",
    "    bottom = 12*h\n",
    "    slope = top/bottom\n",
    "    return float(\"%.16f\"%slope)\n",
    "measureValue4 = five_point_midpoint(f,1)\n",
    "absError4 = measureValue4 - ExactValue\n",
    "relativeError4 =  (measureValue4 - ExactValue)/ExactValue\n",
    "print(\"The exact value of sin'(x) = \",ExactValue)\n",
    "print(\"Five-point_midpoint formula = \", measureValue4)\n",
    "print(\"The absolute Error  = \", absError4)\n",
    "print(\"The relative Error =\", relativeError4)"
   ]
  },
  {
   "cell_type": "markdown",
   "metadata": {},
   "source": [
    "# Analysis:\n",
    "We can use taylor series method to calculate the sin(x). When n increases, the result will be more accurate.\n",
    "For the derivative of sin'(1), we can see that, forward and backward method may not be so nice when we \n",
    "compare the absolute error and relative error with three-point-formula and five-point-formula. \n",
    "The five-point-midpoint formula has the optimal solution compare to others. I believe it will be more accurate\n",
    "if we can use more points.\n",
    "\n"
   ]
  },
  {
   "cell_type": "code",
   "execution_count": null,
   "metadata": {},
   "outputs": [],
   "source": []
  }
 ],
 "metadata": {
  "kernelspec": {
   "display_name": "Python 3",
   "language": "python",
   "name": "python3"
  },
  "language_info": {
   "codemirror_mode": {
    "name": "ipython",
    "version": 3
   },
   "file_extension": ".py",
   "mimetype": "text/x-python",
   "name": "python",
   "nbconvert_exporter": "python",
   "pygments_lexer": "ipython3",
   "version": "3.6.5"
  }
 },
 "nbformat": 4,
 "nbformat_minor": 2
}
