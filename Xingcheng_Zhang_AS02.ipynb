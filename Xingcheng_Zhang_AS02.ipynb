{
 "cells": [
  {
   "cell_type": "markdown",
   "metadata": {},
   "source": [
    "# When N = 10^6  "
   ]
  },
  {
   "cell_type": "code",
   "execution_count": 13,
   "metadata": {},
   "outputs": [
    {
     "name": "stdout",
     "output_type": "stream",
     "text": [
      "The Exact Value is:  5859874.4820488375\n",
      "The time takes:  0.0002970695495605469 s\n"
     ]
    }
   ],
   "source": [
    "#This is the calculation of using the basic formula SN = (N*π) + (N*e)\n",
    "import math \n",
    "import time\n",
    "start_time = time.time()\n",
    "N = 1000000\n",
    "SN = (N*math.pi) + (N*math.e)\n",
    "print(\"The Exact Value is: \", SN)\n",
    "end_time = time.time()\n",
    "elapsed_time = end_time - start_time\n",
    "print (\"The time takes: \", elapsed_time, \"s\")"
   ]
  },
  {
   "cell_type": "code",
   "execution_count": 14,
   "metadata": {},
   "outputs": [
    {
     "name": "stdout",
     "output_type": "stream",
     "text": [
      "Naive summation:  5859874.482058616\n",
      "The time takes:  0.1776740550994873 s\n",
      "The absolute error is:  9.778887033462524e-06\n",
      "The relative error is:  1.6687877980013403e-12\n"
     ]
    }
   ],
   "source": [
    "start_time = time.time()\n",
    "def naiveSummation(N):\n",
    "    sum=0.0\n",
    "    for i in range(1,N+1):\n",
    "        sum+= math.pi \n",
    "        sum+= math.e  # accumulate the sum by adding π to sum, and e to sum separtely\n",
    "    return sum\n",
    "measureSum = naiveSummation(1000000)\n",
    "print(\"Naive summation: \", measureSum)\n",
    "end_time = time.time()\n",
    "elapsed_time = end_time - start_time\n",
    "print (\"The time takes: \", elapsed_time,\"s\")\n",
    "absError = measureSum - SN\n",
    "print(\"The absolute error is: \", absError)\n",
    "relativeError = (measureSum - SN)/SN\n",
    "print (\"The relative error is: \", relativeError)"
   ]
  },
  {
   "cell_type": "code",
   "execution_count": 15,
   "metadata": {},
   "outputs": [
    {
     "name": "stdout",
     "output_type": "stream",
     "text": [
      "CompensatedSummation:  5859874.4820488375\n",
      "The time takes:  0.21921205520629883 s\n",
      "The absolute error is:  0.0\n",
      "The relative error is:  0.0\n"
     ]
    }
   ],
   "source": [
    "start_time = time.time()\n",
    "def compensatedSummation(N):\n",
    "    s = 0.0\n",
    "    c = 0.0     \n",
    "    for i in range(1,N+1):\n",
    "        temp = s\n",
    "        y = math.pi\n",
    "        y += math.e + c\n",
    "        s = temp + y\n",
    "        c = (temp -s) + y\n",
    "    s+= c                         # save the decimal digits, add back to the value\n",
    "    return s\n",
    "measureSum2 = compensatedSummation(1000000)\n",
    "print (\"CompensatedSummation: \", measureSum2)\n",
    "end_time = time.time()\n",
    "elapsed_time = end_time - start_time\n",
    "print (\"The time takes: \", elapsed_time,\"s\")\n",
    "absError2 = measureSum2 - SN\n",
    "print(\"The absolute error is: \", absError2)\n",
    "relativeError2 = (measureSum2 - SN)/SN\n",
    "print (\"The relative error is: \", relativeError2)\n",
    "\n"
   ]
  },
  {
   "cell_type": "markdown",
   "metadata": {},
   "source": [
    "# When N = 10^7 "
   ]
  },
  {
   "cell_type": "code",
   "execution_count": 16,
   "metadata": {},
   "outputs": [
    {
     "name": "stdout",
     "output_type": "stream",
     "text": [
      "The Exact Value is:  58598744.82048838\n",
      "The time takes:  0.0003311634063720703 s\n"
     ]
    }
   ],
   "source": [
    "start_time = time.time()\n",
    "N1 = 10000000\n",
    "SN1 = (N1*math.pi) + (N1*math.e)\n",
    "print(\"The Exact Value is: \", SN1)\n",
    "end_time = time.time()\n",
    "elapsed_time = end_time - start_time\n",
    "print (\"The time takes: \", elapsed_time,\"s\")"
   ]
  },
  {
   "cell_type": "code",
   "execution_count": 17,
   "metadata": {},
   "outputs": [
    {
     "name": "stdout",
     "output_type": "stream",
     "text": [
      "Naive summation:  58598744.81185024\n",
      "The time takes:  1.6633121967315674 s\n",
      "The absolute error is:  -0.008638136088848114\n",
      "The relative error is:  -1.4741162315524358e-10\n"
     ]
    }
   ],
   "source": [
    "start_time = time.time()\n",
    "def naiveSummation1(N1):\n",
    "    sum=0.0\n",
    "    for i in range(1,N1+1):\n",
    "        sum+= math.pi\n",
    "        sum+= math.e    \n",
    "    return sum\n",
    "measureSum1 = naiveSummation1(10000000)\n",
    "print(\"Naive summation: \", measureSum1)\n",
    "end_time = time.time()\n",
    "elapsed_time = end_time - start_time\n",
    "print (\"The time takes: \", elapsed_time,\"s\")\n",
    "absError1 = measureSum1 - SN1\n",
    "print(\"The absolute error is: \", absError1)\n",
    "relativeError1 = (measureSum1 - SN1)/SN1\n",
    "print (\"The relative error is: \", relativeError1)"
   ]
  },
  {
   "cell_type": "code",
   "execution_count": 18,
   "metadata": {},
   "outputs": [
    {
     "name": "stdout",
     "output_type": "stream",
     "text": [
      "CompensatedSummation:  58598744.82048838\n",
      "The time takes:  2.096609115600586 s\n",
      "The absolute error is:  0.0\n",
      "The relative error is:  0.0\n"
     ]
    }
   ],
   "source": [
    "start_time = time.time()\n",
    "def compensatedSummation1(N1):\n",
    "    s = 0.0\n",
    "    c = 0.0     \n",
    "    for i in range(1,N1+1):\n",
    "        temp = s\n",
    "        y = math.pi\n",
    "        y += math.e + c\n",
    "        s = temp + y\n",
    "        c = (temp -s) + y\n",
    "    s+= c\n",
    "    return s\n",
    "measureSum3 = compensatedSummation1(N1)\n",
    "print (\"CompensatedSummation: \", measureSum3)\n",
    "end_time = time.time()\n",
    "elapsed_time = end_time - start_time\n",
    "print (\"The time takes: \", elapsed_time,\"s\")\n",
    "absError3 = measureSum3 - SN1\n",
    "print(\"The absolute error is: \", absError3)\n",
    "relativeError3 = (measureSum3 - SN1)/SN1\n",
    "print (\"The relative error is: \", relativeError3)\n"
   ]
  },
  {
   "cell_type": "markdown",
   "metadata": {},
   "source": [
    "# When N = 10^8  "
   ]
  },
  {
   "cell_type": "code",
   "execution_count": 19,
   "metadata": {},
   "outputs": [
    {
     "name": "stdout",
     "output_type": "stream",
     "text": [
      "The Exact Value is:  585987448.2048838\n",
      "The time takes:  0.0003330707550048828 s\n"
     ]
    }
   ],
   "source": [
    "start_time = time.time()\n",
    "N2 = 100000000\n",
    "SN2 = (N2*math.pi) + (N2*math.e)\n",
    "print(\"The Exact Value is: \", SN2)\n",
    "end_time = time.time()\n",
    "elapsed_time = end_time - start_time\n",
    "print (\"The time takes: \", elapsed_time,\"s\")"
   ]
  },
  {
   "cell_type": "code",
   "execution_count": 20,
   "metadata": {},
   "outputs": [
    {
     "name": "stdout",
     "output_type": "stream",
     "text": [
      "Naive summation:  585987448.6241196\n",
      "The time takes:  16.485613107681274 s\n",
      "The absolute error is:  0.41923582553863525\n",
      "The relative error is:  7.154348217234412e-10\n"
     ]
    }
   ],
   "source": [
    "start_time = time.time()\n",
    "def naiveSummation2(N2):\n",
    "    sum=0.0\n",
    "    for i in range(1,N2+1):\n",
    "        sum+= math.pi \n",
    "        sum+= math.e\n",
    "    return sum\n",
    "measureSum4 = naiveSummation2(100000000)\n",
    "print(\"Naive summation: \", measureSum4)\n",
    "end_time = time.time()\n",
    "elapsed_time = end_time - start_time\n",
    "print (\"The time takes: \", elapsed_time,\"s\")\n",
    "absError4 = measureSum4 - SN2\n",
    "print(\"The absolute error is: \", absError4)\n",
    "relativeError4 = (measureSum4 - SN2)/SN2\n",
    "print (\"The relative error is: \", relativeError4)"
   ]
  },
  {
   "cell_type": "code",
   "execution_count": 21,
   "metadata": {},
   "outputs": [
    {
     "name": "stdout",
     "output_type": "stream",
     "text": [
      "CompensatedSummation:  585987448.2048838\n",
      "The time takes:  21.10196590423584 s\n",
      "The absolute error is:  0.0\n",
      "The relative error is:  0.0\n"
     ]
    }
   ],
   "source": [
    "start_time = time.time()\n",
    "def compensatedSummation2(N2):\n",
    "    s = 0.0\n",
    "    c = 0.0     \n",
    "    for i in range(1,N2+1):\n",
    "        temp = s\n",
    "        y = math.pi\n",
    "        y += math.e + c\n",
    "        s = temp + y\n",
    "        c = (temp -s) + y\n",
    "    s+= c\n",
    "    return s\n",
    "measureSum5 = compensatedSummation2(100000000)\n",
    "print (\"CompensatedSummation: \", measureSum5)\n",
    "end_time = time.time()\n",
    "elapsed_time = end_time - start_time\n",
    "print (\"The time takes: \", elapsed_time,\"s\")\n",
    "absError5 = measureSum5 - SN2\n",
    "print(\"The absolute error is: \", absError5)\n",
    "relativeError5 = (measureSum5 - SN2)/SN2\n",
    "print (\"The relative error is: \", relativeError5)"
   ]
  },
  {
   "cell_type": "markdown",
   "metadata": {},
   "source": [
    "# When N = 10^9  "
   ]
  },
  {
   "cell_type": "code",
   "execution_count": 22,
   "metadata": {},
   "outputs": [
    {
     "name": "stdout",
     "output_type": "stream",
     "text": [
      "The Exact Value is:  5859874482.048838\n",
      "The time takes:  0.00028967857360839844 s\n"
     ]
    }
   ],
   "source": [
    "start_time = time.time()\n",
    "N3 = 1000000000\n",
    "SN3 = (N3*math.pi) + (N3*math.e)\n",
    "print(\"The Exact Value is: \", SN3)\n",
    "end_time = time.time()\n",
    "elapsed_time = end_time - start_time\n",
    "print (\"The time takes: \", elapsed_time,\"s\")"
   ]
  },
  {
   "cell_type": "code",
   "execution_count": 23,
   "metadata": {},
   "outputs": [
    {
     "name": "stdout",
     "output_type": "stream",
     "text": [
      "Naive summation:  5859874463.151933\n",
      "The time takes:  163.9960231781006 s\n",
      "The absolute error is:  -18.896904945373535\n",
      "The relative error is:  -3.2247968797390436e-09\n"
     ]
    }
   ],
   "source": [
    "start_time = time.time()\n",
    "def naiveSummation3(N3):\n",
    "    sum=0.0\n",
    "    for i in range(1,N3+1):\n",
    "        sum+= math.pi \n",
    "        sum+= math.e\n",
    "    return sum\n",
    "measureSum6 = naiveSummation3(1000000000)\n",
    "print(\"Naive summation: \", measureSum6)\n",
    "end_time = time.time()\n",
    "elapsed_time = end_time - start_time\n",
    "print (\"The time takes: \", elapsed_time,\"s\")\n",
    "absError6 = measureSum6 - SN3\n",
    "print(\"The absolute error is: \", absError6)\n",
    "relativeError6 = (measureSum6 - SN3)/SN3\n",
    "print (\"The relative error is: \", relativeError6)"
   ]
  },
  {
   "cell_type": "code",
   "execution_count": 24,
   "metadata": {},
   "outputs": [
    {
     "name": "stdout",
     "output_type": "stream",
     "text": [
      "CompensatedSummation:  5859874482.048838\n",
      "The time takes:  217.570946931839 s\n",
      "The absolute error is:  0.0\n",
      "The relative error is:  0.0\n"
     ]
    }
   ],
   "source": [
    "start_time1 = time.time()\n",
    "def compensatedSummation3(N3):\n",
    "    s = 0.0\n",
    "    c = 0.0     \n",
    "    for i in range(1,N3+1):\n",
    "        temp = s\n",
    "        y = math.pi\n",
    "        y += math.e + c\n",
    "        s = temp + y\n",
    "        c = (temp -s) + y\n",
    "    s+= c\n",
    "    return s\n",
    "measureSum7 = compensatedSummation3(1000000000)\n",
    "print (\"CompensatedSummation: \", measureSum7)\n",
    "end_time1 = time.time()\n",
    "elapsed_time1 = end_time1 - start_time1\n",
    "print (\"The time takes: \", elapsed_time1,\"s\")\n",
    "absError7 = measureSum7 - SN3\n",
    "print(\"The absolute error is: \", absError7)\n",
    "relativeError7 = (measureSum7 - SN3)/SN3\n",
    "print (\"The relative error is: \", relativeError7)"
   ]
  },
  {
   "cell_type": "markdown",
   "metadata": {},
   "source": [
    "# Analysis:\n",
    "-------------------Naive Summation---------------\n",
    "As we can see the result, the naive summation will have a minor error problem \n",
    "because the decimal digits can not be accurate.\n",
    "when N increase to 10^6, 10^7, 10^8, 10^9\n",
    "the absolute error and relative error increase\n",
    "\n",
    "-------------------Compensated Summation---------\n",
    "As we can see the result, the compensated summation will do a good job\n",
    "when N increase to 10^6, 10^7, 10^8, 10^9\n",
    "It saves the decimal digits each time, and put it back.\n",
    "it helps the answer more accurate.\n",
    "\n",
    "-------------------Time summary------------------\n",
    "The time also take longer when N increase. I decide to do all the steps separately\n",
    "rather then use a list to calculate all the process because I am afraid that there might \n",
    "be some minor interrupt between them when executing loops.\n",
    "\n",
    "-------------------Error summary-------------------\n",
    "There errors consistent with the expressions for errors that\n",
    "we discussed in class, including absolute error, relative error\n",
    "Naive summation and compensated summation."
   ]
  }
 ],
 "metadata": {
  "kernelspec": {
   "display_name": "Python 3",
   "language": "python",
   "name": "python3"
  },
  "language_info": {
   "codemirror_mode": {
    "name": "ipython",
    "version": 3
   },
   "file_extension": ".py",
   "mimetype": "text/x-python",
   "name": "python",
   "nbconvert_exporter": "python",
   "pygments_lexer": "ipython3",
   "version": "3.6.5"
  }
 },
 "nbformat": 4,
 "nbformat_minor": 2
}
