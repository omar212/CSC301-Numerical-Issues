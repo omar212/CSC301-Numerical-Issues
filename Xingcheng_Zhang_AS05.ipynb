{
 "cells": [
  {
   "cell_type": "code",
   "execution_count": 12,
   "metadata": {},
   "outputs": [
    {
     "name": "stdout",
     "output_type": "stream",
     "text": [
      "The exact value of the intergral for sin(x) is:  0.8068453602226697\n",
      "The error is  8.957782962311863e-15\n"
     ]
    }
   ],
   "source": [
    "from scipy.integrate import quad\n",
    "import math\n",
    "from math import *\n",
    "a=0.5\n",
    "b=1.5\n",
    "n = 2000\n",
    "def f(x):\n",
    "    return sin(x)\n",
    "i = quad(f,a,b)\n",
    "exactValue = i[0]\n",
    "print(\"The exact value of the intergral for sin(x) is: \", exactValue)\n",
    "print(\"The error is \", i[1])"
   ]
  },
  {
   "cell_type": "code",
   "execution_count": 13,
   "metadata": {},
   "outputs": [
    {
     "name": "stdout",
     "output_type": "stream",
     "text": [
      "The integral for trapezoid rule is 0.7384602626041288\n",
      "The exact value  for sin(x) is:  0.8068453602226697\n",
      "The absolute error is:  -0.06838509761854095\n",
      "The relative error is:  -0.08475613914377388\n"
     ]
    }
   ],
   "source": [
    "def trapezoidRule(f,a,b,n):\n",
    "    h = b-a\n",
    "    return (h/2)*(f(a)+f(b))\n",
    "measureValue2 = trapezoidRule(f,a,b,n)\n",
    "absError2 = measureValue2 - exactValue\n",
    "relativeError2 = absError2/exactValue\n",
    "print(\"The integral for trapezoid rule is\", measureValue2)\n",
    "print(\"The exact value  for sin(x) is: \", exactValue)\n",
    "print(\"The absolute error is: \", absError2)\n",
    "print(\"The relative error is: \", relativeError2)"
   ]
  },
  {
   "cell_type": "code",
   "execution_count": 14,
   "metadata": {},
   "outputs": [
    {
     "name": "stdout",
     "output_type": "stream",
     "text": [
      "The integral for simpson rule is 0.8071340774066404\n",
      "The exact value  for sin(x) is:  0.8068453602226697\n",
      "The absolute error is:  0.00028871718397072144\n",
      "The relative error is:  0.00035783459657132133\n"
     ]
    }
   ],
   "source": [
    "def simpsonRule(f,a,b):\n",
    "    h = (b - a)/2\n",
    "    return (h/3)*(f(a)+4*f(a+h)+f(b))\n",
    "measureValue3 = simpsonRule(f,a,b)\n",
    "absError3 = measureValue3 - exactValue\n",
    "relativeError3 = absError3/exactValue\n",
    "print('The integral for simpson rule is', measureValue3)\n",
    "print(\"The exact value  for sin(x) is: \", exactValue)\n",
    "print(\"The absolute error is: \", absError3)\n",
    "print(\"The relative error is: \", relativeError3)\n",
    "\n"
   ]
  },
  {
   "cell_type": "code",
   "execution_count": 15,
   "metadata": {},
   "outputs": [
    {
     "name": "stdout",
     "output_type": "stream",
     "text": [
      "The integral for adaptive quad method is 0.8068630010283111\n",
      "The exact value  for sin(x) is:  0.8068453602226697\n",
      "The absolute error is:  1.764080564137238e-05\n",
      "The relative error is:  2.1863924007078564e-05\n"
     ]
    }
   ],
   "source": [
    "def AdaptiveQuadMethod(f,a,b):\n",
    "    h = (b-a)/2\n",
    "    return (h/6)*(f(a)+4*f(a+(h/2)) + 2*f(a+h) + 4*f(a+(3*h)/2) + f(b))\n",
    "measureValue4 = AdaptiveQuadMethod(f,a,b)\n",
    "absError4 = measureValue4 - exactValue\n",
    "relativeError4 = absError4/exactValue\n",
    "print('The integral for adaptive quad method is', measureValue4)\n",
    "print(\"The exact value  for sin(x) is: \", exactValue)\n",
    "print(\"The absolute error is: \", absError4)\n",
    "print(\"The relative error is: \", relativeError4)"
   ]
  },
  {
   "cell_type": "code",
   "execution_count": 16,
   "metadata": {},
   "outputs": [
    {
     "name": "stdout",
     "output_type": "stream",
     "text": [
      "The integral for composite trapezoid rule is 0.8068453434133909\n",
      "The exact value  for sin(x) is:  0.8068453602226697\n",
      "The absolute error is:  -1.680927885772121e-08\n",
      "The relative error is:  -2.0833333977507483e-08\n"
     ]
    }
   ],
   "source": [
    "def CompositeTrapezoidRule(f, a, b, n):\n",
    "    h = (b-a)/n\n",
    "    answer = 0.5*f(a) + 0.5*f(b)\n",
    "    for i in range(1, n):\n",
    "        answer += f(a + i*h)\n",
    "    answer *= h\n",
    "    return answer\n",
    "measureValue1 = CompositeTrapezoidRule(f,a,b,n)\n",
    "absError1 = measureValue1 - exactValue\n",
    "relativeError1 = absError1/exactValue\n",
    "print(\"The integral for composite trapezoid rule is\", measureValue1)\n",
    "print(\"The exact value  for sin(x) is: \", exactValue)\n",
    "print(\"The absolute error is: \", absError1)\n",
    "print(\"The relative error is: \", relativeError1)"
   ]
  },
  {
   "cell_type": "code",
   "execution_count": 17,
   "metadata": {},
   "outputs": [
    {
     "name": "stdout",
     "output_type": "stream",
     "text": [
      "The integral for composite simpson rule is 0.8068453602226701\n",
      "The exact value  for sin(x) is:  0.8068453602226697\n",
      "The absolute error is:  3.3306690738754696e-16\n",
      "The relative error is:  4.128014162411848e-16\n"
     ]
    }
   ],
   "source": [
    "def CompositeSimpsonRule(f, a, b, n):\n",
    "    h=(b-a)/n\n",
    "    result=f(a)\n",
    "    for i in range(1,n,2):\n",
    "        x = a+ h*i\n",
    "        result += 4*f(x)\n",
    "\n",
    "    for i in range(2,n-1,2):\n",
    "        x = a+ h*i\n",
    "        result += 2*f(x)    \n",
    "        \n",
    "    result+= f(b)\n",
    "    answer = (h*result)/3\n",
    "\n",
    "    return answer\n",
    "\n",
    "def f(x): \n",
    "    return sin(x)\n",
    "\n",
    "measureValue = CompositeSimpsonRule(f,a,b,n)\n",
    "absError = measureValue - exactValue\n",
    "relativeError = absError/exactValue\n",
    "print('The integral for composite simpson rule is', measureValue)\n",
    "print(\"The exact value  for sin(x) is: \", exactValue)\n",
    "print(\"The absolute error is: \", absError)\n",
    "print(\"The relative error is: \", relativeError)\n"
   ]
  },
  {
   "cell_type": "code",
   "execution_count": 18,
   "metadata": {},
   "outputs": [
    {
     "name": "stdout",
     "output_type": "stream",
     "text": [
      "The integral for composite midpoint rule is 0.8068453686273098\n",
      "The exact value  for sin(x) is:  0.8068453602226697\n",
      "The absolute error is:  8.40464009499442e-09\n",
      "The relative error is:  1.0416667814356575e-08\n"
     ]
    }
   ],
   "source": [
    "def CompositeMidpoint(f, a, b, n):\n",
    "    h = (b-a)/n\n",
    "    result = 0\n",
    "    for i in range(n):\n",
    "        result += f((a + h/2.0) + i*h)\n",
    "    result *= h\n",
    "    return result\n",
    "measureValue5 = CompositeMidpoint(f,a,b,n)\n",
    "absError5 = measureValue5 - exactValue\n",
    "relativeError5 = absError5/exactValue\n",
    "print('The integral for composite midpoint rule is', measureValue5)\n",
    "print(\"The exact value  for sin(x) is: \", exactValue)\n",
    "print(\"The absolute error is: \", absError5)\n",
    "print(\"The relative error is: \", relativeError5)\n",
    "\n"
   ]
  },
  {
   "cell_type": "markdown",
   "metadata": {},
   "source": [
    "# Analysis:\n",
    "As we can see, the methods I wrote are based on its accuracy in order. We will find out\n",
    "trapezoid method are less accurate. But composite trapezoid is better than simplify trapezoid rule.\n",
    "And composite simpson rule is better than others because the absolute error are less."
   ]
  }
 ],
 "metadata": {
  "kernelspec": {
   "display_name": "Python 3",
   "language": "python",
   "name": "python3"
  },
  "language_info": {
   "codemirror_mode": {
    "name": "ipython",
    "version": 3
   },
   "file_extension": ".py",
   "mimetype": "text/x-python",
   "name": "python",
   "nbconvert_exporter": "python",
   "pygments_lexer": "ipython3",
   "version": "3.6.5"
  }
 },
 "nbformat": 4,
 "nbformat_minor": 2
}
