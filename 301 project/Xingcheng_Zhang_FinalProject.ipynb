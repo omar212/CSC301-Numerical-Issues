{
 "cells": [
  {
   "cell_type": "markdown",
   "metadata": {},
   "source": [
    "## Runge Kutta method \n",
    "### A sample differential equation \"dy / dx = -2*y + x + 4\" when h = 0.2, y(0) = 1, calculate y when x = 0.2 "
   ]
  },
  {
   "cell_type": "code",
   "execution_count": 7,
   "metadata": {},
   "outputs": [
    {
     "name": "stdout",
     "output_type": "stream",
     "text": [
      "The exact value of when x= 0.2 is:  1.3472599654732704\n",
      "--------------------------------------------\n",
      "The value of y at x in RungeKutta first order is: 1.4\n",
      "Absolute Error 0.052740034526729485\n",
      "Relative Error 0.03914614541982829\n",
      "--------------------------------------------\n",
      "The value of y at x in RungeKutta second order is: 1.324\n",
      "Absolute Error -0.02325996547327036\n",
      "Relative Error -0.017264645331533705\n",
      "--------------------------------------------\n",
      "The value of y at x in RungeKutta third order is: 1.3479999999999999\n",
      "Absolute Error 0.0007400345267294384\n",
      "Relative Error 0.0005492885899489163\n",
      "--------------------------------------------\n",
      "The value of y at x in RungeKutta fourth order is: 1.3472\n",
      "Absolute Error -5.9965473270473524e-05\n",
      "Relative Error -4.4509207433777366e-05\n"
     ]
    }
   ],
   "source": [
    "from math import exp\n",
    "\n",
    "# initial value\n",
    "x0 = 0 \n",
    "y = 1\n",
    "x = 0.2\n",
    "h = 0.2\n",
    "\n",
    "def f(x, y): \n",
    "    return (-2*y+x + 4) \n",
    "\n",
    "def rungeKutta1(x0,y0,x,h):\n",
    "    n = (int)((x-x0)/h)\n",
    "    y = y0\n",
    "    for i in range(1, n+1):\n",
    "        y = y+h*f(x0,y)\n",
    "        x0 = x0+h\n",
    "    return y\n",
    "\n",
    "def rungeKutta2(x0,y0,x,h):\n",
    "    # Count number of iterations using step size or \n",
    "    # step height h \n",
    "    n = (int)((x-x0)/h)\n",
    "    y = y0\n",
    "    for i in range(1, n+1):\n",
    "        k1 = h * f(x0,y)\n",
    "        k2 = f(x0 + (2/3)*h, y+(2/3)*h*k1)\n",
    "        y = y + h*((1/4)*k1 + (3/4)*k2)\n",
    "        x0 = x0 + h\n",
    "    return y\n",
    "\n",
    "def rungeKutta3(x0,y0,x,h):\n",
    "    n = (int)((x-x0)/h)\n",
    "    y = y0\n",
    "    for i in range(1, n+1):\n",
    "        k1 = h*f(x0,y)\n",
    "        k2 = h*f(x0+ 0.5 * h, y+0.5 * k1)\n",
    "        k3 = h*f(x0 +h,y-k1 + 2*k2)\n",
    "        y = y + (1/6)*(k1 + 4*k2 + k3)\n",
    "        x = x0 + h\n",
    "    return y\n",
    "\n",
    "def rungeKutta4(x0, y0, x, h): \n",
    "    n = (int)((x - x0)/h)  \n",
    "    y = y0 \n",
    "    for i in range(1, n + 1): \n",
    "        k1 = f(x0, y) \n",
    "        k2 = f(x0 + 0.5 * h, y + 0.5*h * k1) \n",
    "        k3 = f(x0 + 0.5 * h, y + 0.5 *h * k2) \n",
    "        k4 =  f(x0 + h, y + k3*h) \n",
    "        y = y + (1/6)*(k1 + 2 * k2 + 2 * k3 + k4) *h\n",
    "        x0 = x0 + h \n",
    "    return y \n",
    "RK1 = rungeKutta1(x0, y, x, h)\n",
    "RK2 = rungeKutta2(x0, y, x, h)\n",
    "RK3 = rungeKutta3(x0, y, x, h)\n",
    "RK4 = rungeKutta4(x0, y, x, h)\n",
    "exactValue = -0.75*exp(-2*x) + 0.5*x + 1.75\n",
    "absErrorRK1 = RK1-exactValue\n",
    "absErrorRK2 = RK2-exactValue\n",
    "absErrorRK3 = RK3 -exactValue\n",
    "absErrorRK4 = RK4 - exactValue\n",
    "relativeErrorRK1 = absErrorRK1/exactValue\n",
    "relativeErrorRK2 = absErrorRK2/exactValue\n",
    "relativeErrorRK3 = absErrorRK3/exactValue\n",
    "relativeErrorRK4 = absErrorRK4/exactValue\n",
    "print(\"The exact value of when x= 0.2 is: \", exactValue)\n",
    "print(\"--------------------------------------------\")\n",
    "print ('The value of y at x in RungeKutta first order is:', RK1)\n",
    "print('Absolute Error', absErrorRK1)\n",
    "print('Relative Error', relativeErrorRK1)\n",
    "print(\"--------------------------------------------\")\n",
    "print ('The value of y at x in RungeKutta second order is:', RK2)\n",
    "print('Absolute Error', absErrorRK2)\n",
    "print('Relative Error', relativeErrorRK2)\n",
    "print(\"--------------------------------------------\")\n",
    "print ('The value of y at x in RungeKutta third order is:', RK3)\n",
    "print('Absolute Error', absErrorRK3)\n",
    "print('Relative Error', relativeErrorRK3)\n",
    "print(\"--------------------------------------------\")\n",
    "print ('The value of y at x in RungeKutta fourth order is:', RK4)\n",
    "print('Absolute Error', absErrorRK4)\n",
    "print('Relative Error', relativeErrorRK4)"
   ]
  },
  {
   "cell_type": "markdown",
   "metadata": {},
   "source": [
    "# Analysis\n",
    "\n",
    "As we can see, the fouth order Runge Kutta method is more accurate then previous three. The more detail will be included in report."
   ]
  }
 ],
 "metadata": {
  "kernelspec": {
   "display_name": "Python 3",
   "language": "python",
   "name": "python3"
  },
  "language_info": {
   "codemirror_mode": {
    "name": "ipython",
    "version": 3
   },
   "file_extension": ".py",
   "mimetype": "text/x-python",
   "name": "python",
   "nbconvert_exporter": "python",
   "pygments_lexer": "ipython3",
   "version": "3.6.5"
  }
 },
 "nbformat": 4,
 "nbformat_minor": 2
}
